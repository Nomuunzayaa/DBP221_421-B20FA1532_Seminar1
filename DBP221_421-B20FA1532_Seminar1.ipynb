{
 "cells": [
  {
   "cell_type": "code",
   "execution_count": 2,
   "id": "ca96a45f",
   "metadata": {},
   "outputs": [
    {
     "name": "stdout",
     "output_type": "stream",
     "text": [
      "python\n",
      "php\n",
      "java\n"
     ]
    }
   ],
   "source": [
    "#1\n",
    "\n",
    "a = ['python','php', 'java']\n",
    "print(a[0])\n",
    "print(a[1])\n",
    "print(a[2])"
   ]
  },
  {
   "cell_type": "code",
   "execution_count": 5,
   "id": "374ab135",
   "metadata": {},
   "outputs": [
    {
     "name": "stdout",
     "output_type": "stream",
     "text": [
      "sum: 240\n"
     ]
    }
   ],
   "source": [
    "#2\n",
    "\n",
    "b= [8, 23, 14, 17, 90, 2, 45, 22, 8, 11]\n",
    "n = 0\n",
    "for i in range(0, len(b)):\n",
    "    n = n + b[i]\n",
    "print(\"sum:\", n)"
   ]
  },
  {
   "cell_type": "code",
   "execution_count": 6,
   "id": "a73c6825",
   "metadata": {},
   "outputs": [
    {
     "name": "stdout",
     "output_type": "stream",
     "text": [
      "120\n"
     ]
    }
   ],
   "source": [
    "#3\n",
    "\n",
    "c = [1, 2, 3, 4, 5]\n",
    "n = 1\n",
    "for i in range(0, len(c)):\n",
    "    n = n * c[i]\n",
    "print(n)"
   ]
  },
  {
   "cell_type": "code",
   "execution_count": 8,
   "id": "eca7b7ee",
   "metadata": {},
   "outputs": [
    {
     "data": {
      "text/plain": [
       "18"
      ]
     },
     "execution_count": 8,
     "metadata": {},
     "output_type": "execute_result"
    }
   ],
   "source": [
    "#4\n",
    "\n",
    "d = [3, 5, 2, 6, 1, 9]\n",
    "\n",
    "def multi(value):\n",
    "    a = d[2]\n",
    "    b = d[-1]\n",
    "    y = a * b\n",
    "    return y\n",
    "\n",
    "multi(d)"
   ]
  },
  {
   "cell_type": "code",
   "execution_count": 11,
   "id": "6877b012",
   "metadata": {},
   "outputs": [
    {
     "data": {
      "text/plain": [
       "(90, 0)"
      ]
     },
     "execution_count": 11,
     "metadata": {},
     "output_type": "execute_result"
    }
   ],
   "source": [
    "#5\n",
    "\n",
    "e = [0, 2, 90, 7]\n",
    "\n",
    "def y(e):\n",
    "    a = max(e)\n",
    "    b = min(e)\n",
    "    y = (a,b)\n",
    "    return y\n",
    "\n",
    "y(e)"
   ]
  },
  {
   "cell_type": "code",
   "execution_count": 15,
   "id": "c14dcc9e",
   "metadata": {},
   "outputs": [
    {
     "name": "stdout",
     "output_type": "stream",
     "text": [
      "2\n"
     ]
    }
   ],
   "source": [
    "#6\n",
    "\n",
    "f = [\"abdba\", \"abcd\", \"121\"]\n",
    "n = 0;\n",
    "for i in f:\n",
    "    if (len(i) >= 2 and i[0] == i[-1]):\n",
    "        n = n + 1\n",
    "print(n)"
   ]
  },
  {
   "cell_type": "code",
   "execution_count": 17,
   "id": "e6db05de",
   "metadata": {},
   "outputs": [
    {
     "name": "stdout",
     "output_type": "stream",
     "text": [
      "['abdba', 'abcd', '121']\n",
      "['121', 'abcd', 'abdba']\n"
     ]
    }
   ],
   "source": [
    "#7\n",
    "\n",
    "g = [\"abdba\", \"abcd\", \"121\", \"121\", \"abcd\"]\n",
    "# method 1\n",
    "g = dict.fromkeys(g)\n",
    "print(list(g))\n",
    "\n",
    "# method 2\n",
    "print(list(set(g)))"
   ]
  },
  {
   "cell_type": "code",
   "execution_count": 19,
   "id": "a1c9931a",
   "metadata": {},
   "outputs": [
    {
     "name": "stdout",
     "output_type": "stream",
     "text": [
      "List is not empty\n"
     ]
    }
   ],
   "source": [
    "#8\n",
    "\n",
    "h = [0, 2, \"list\"]\n",
    "#h = []\n",
    "if h:\n",
    "    print(\"List is not empty\")\n",
    "else:\n",
    "    print(\"List is Empty\")"
   ]
  },
  {
   "cell_type": "code",
   "execution_count": 26,
   "id": "9bede443",
   "metadata": {},
   "outputs": [
    {
     "name": "stdout",
     "output_type": "stream",
     "text": [
      "[6, 0, 12, 34, 2, 20, 5, 67, 12]\n"
     ]
    }
   ],
   "source": [
    "#9\n",
    "\n",
    "j = [6, 0, 12, 34, \"sun\", 2, \"sky\", 20, \"cloud\", 5, 67, 12]\n",
    "#method 1\n",
    "anti_j = [4, 6, 8]\n",
    "for i in sorted(anti_j, reverse = True):\n",
    "    del j[i]\n",
    "print(j)\n",
    "\n",
    "#method 2\n",
    "#j.pop(4)\n",
    "#j.pop(5)\n",
    "#j.pop(6)\n",
    "#print(j)"
   ]
  },
  {
   "cell_type": "code",
   "execution_count": 27,
   "id": "5b8f028f",
   "metadata": {},
   "outputs": [
    {
     "name": "stdout",
     "output_type": "stream",
     "text": [
      "(4, 12, 0, 45, 22, 7)\n"
     ]
    }
   ],
   "source": [
    "#10 \n",
    "\n",
    "tuple_a = (4, 12, 0, 45, 22, 7)\n",
    "print(tuple_a)"
   ]
  },
  {
   "cell_type": "code",
   "execution_count": 29,
   "id": "6f5dcf8e",
   "metadata": {},
   "outputs": [
    {
     "name": "stdout",
     "output_type": "stream",
     "text": [
      "(4, 12, 0, 45, 22, 7, 'sun', 'sky')\n"
     ]
    }
   ],
   "source": [
    "#11\n",
    "\n",
    "tuple_b = (4, 12, 0, 45, 22, 7)\n",
    "y = list(tuple_b)\n",
    "y.extend([\"sun\", \"sky\"])\n",
    "tuple_b = tuple(y)\n",
    "print(tuple_b)"
   ]
  },
  {
   "cell_type": "code",
   "execution_count": 37,
   "id": "7f6a0c89",
   "metadata": {},
   "outputs": [
    {
     "name": "stdout",
     "output_type": "stream",
     "text": [
      "(0, 'sun')\n"
     ]
    }
   ],
   "source": [
    "#12 \n",
    "\n",
    "tuple_c = (4, 12, 0, 45, 22, 7, \"sun\", \"sky\")\n",
    "x = tuple_c[2], tuple_c[-2]\n",
    "print(x)"
   ]
  },
  {
   "cell_type": "code",
   "execution_count": 38,
   "id": "e9890c0c",
   "metadata": {},
   "outputs": [
    {
     "name": "stdout",
     "output_type": "stream",
     "text": [
      "Test value: black\n",
      "yes\n"
     ]
    }
   ],
   "source": [
    "#13 \n",
    "\n",
    "tuple_d = (\"blue\", \"green\", \"white\", \"black\")\n",
    "x = input(\"Test value: \")\n",
    "if x in tuple_d:\n",
    "    print(\"yes\")\n",
    "else:\n",
    "    print(\"no\")"
   ]
  },
  {
   "cell_type": "code",
   "execution_count": 40,
   "id": "0b4f9f55",
   "metadata": {},
   "outputs": [
    {
     "name": "stdout",
     "output_type": "stream",
     "text": [
      "4\n",
      "12\n",
      "0\n",
      "a\n",
      "b\n"
     ]
    }
   ],
   "source": [
    "#14\n",
    "\n",
    "#method 1\n",
    "tuple_e = (4, 12, 0)\n",
    "for i in tuple_e:\n",
    "    print(i)\n",
    "    \n",
    "#method 2\n",
    "tuple_ee = (\"a\", \"b\")\n",
    "\n",
    "for item in tuple_ee:\n",
    "    print(str(item[0])) "
   ]
  },
  {
   "cell_type": "code",
   "execution_count": 41,
   "id": "b63ed07b",
   "metadata": {},
   "outputs": [
    {
     "name": "stdout",
     "output_type": "stream",
     "text": [
      "{0, 4, 'a', 12, 'b'}\n"
     ]
    }
   ],
   "source": [
    "#15\n",
    "\n",
    "set_a = {4, 12, 0}\n",
    "set_b = {\"a\", \"b\"}\n",
    "\n",
    "set_union = set_a.union(set_b)\n",
    "print(set_union)"
   ]
  },
  {
   "cell_type": "code",
   "execution_count": 43,
   "id": "4db914f9",
   "metadata": {},
   "outputs": [
    {
     "name": "stdout",
     "output_type": "stream",
     "text": [
      "{45, 'sky', 12}\n"
     ]
    }
   ],
   "source": [
    "#16\n",
    "\n",
    "set_a = {4, 12, 0, 45, 22, 7, \"sun\", \"sky\"}\n",
    "set_b = {45, 6, \"cloud\", 34, 35, 18, 90, \"sky\", 12}\n",
    "\n",
    "set_dupli = set_a.intersection(set_b)\n",
    "print(set_dupli)"
   ]
  },
  {
   "cell_type": "code",
   "execution_count": 46,
   "id": "2cdae69e",
   "metadata": {},
   "outputs": [
    {
     "name": "stdout",
     "output_type": "stream",
     "text": [
      "8\n"
     ]
    }
   ],
   "source": [
    "#17\n",
    "\n",
    "set_a = {4, 12, 0, 45, 22, 7, \"sun\", \"sky\"}\n",
    "print(len(set_a))"
   ]
  },
  {
   "cell_type": "code",
   "execution_count": 50,
   "id": "5e24f72f",
   "metadata": {},
   "outputs": [
    {
     "name": "stdout",
     "output_type": "stream",
     "text": [
      "{0, 4, 7, 'sun', 22}\n"
     ]
    }
   ],
   "source": [
    "#18\n",
    "\n",
    "set_a = {4, 12, 0, 45, 22, 7, \"sun\", \"sky\"}\n",
    "set_b = {45, 6, \"cloud\", 34, 35, 18, 90, \"sky\", 12}\n",
    "set_remove = set_a.difference(set_b)\n",
    "print(set_remove)"
   ]
  },
  {
   "cell_type": "code",
   "execution_count": 52,
   "id": "5c0503ba",
   "metadata": {},
   "outputs": [
    {
     "name": "stdout",
     "output_type": "stream",
     "text": [
      "set()\n"
     ]
    }
   ],
   "source": [
    "#19\n",
    "\n",
    "set_a = {4, 12, 0, 45, 22, 7, \"sun\", \"sky\"}\n",
    "set_a.clear()\n",
    "print(set_a)"
   ]
  },
  {
   "cell_type": "code",
   "execution_count": 53,
   "id": "b3427d66",
   "metadata": {},
   "outputs": [
    {
     "ename": "NameError",
     "evalue": "name 'set_a' is not defined",
     "output_type": "error",
     "traceback": [
      "\u001b[1;31m---------------------------------------------------------------------------\u001b[0m",
      "\u001b[1;31mNameError\u001b[0m                                 Traceback (most recent call last)",
      "\u001b[1;32m~\\AppData\\Local\\Temp/ipykernel_10440/3813381372.py\u001b[0m in \u001b[0;36m<module>\u001b[1;34m\u001b[0m\n\u001b[0;32m      3\u001b[0m \u001b[0mset_a\u001b[0m \u001b[1;33m=\u001b[0m \u001b[1;33m{\u001b[0m\u001b[1;36m4\u001b[0m\u001b[1;33m,\u001b[0m \u001b[1;36m12\u001b[0m\u001b[1;33m,\u001b[0m \u001b[1;36m0\u001b[0m\u001b[1;33m,\u001b[0m \u001b[1;36m45\u001b[0m\u001b[1;33m,\u001b[0m \u001b[1;36m22\u001b[0m\u001b[1;33m,\u001b[0m \u001b[1;36m7\u001b[0m\u001b[1;33m,\u001b[0m \u001b[1;34m\"sun\"\u001b[0m\u001b[1;33m,\u001b[0m \u001b[1;34m\"sky\"\u001b[0m\u001b[1;33m}\u001b[0m\u001b[1;33m\u001b[0m\u001b[1;33m\u001b[0m\u001b[0m\n\u001b[0;32m      4\u001b[0m \u001b[1;32mdel\u001b[0m \u001b[0mset_a\u001b[0m\u001b[1;33m\u001b[0m\u001b[1;33m\u001b[0m\u001b[0m\n\u001b[1;32m----> 5\u001b[1;33m \u001b[0mprint\u001b[0m\u001b[1;33m(\u001b[0m\u001b[0mset_a\u001b[0m\u001b[1;33m)\u001b[0m\u001b[1;33m\u001b[0m\u001b[1;33m\u001b[0m\u001b[0m\n\u001b[0m",
      "\u001b[1;31mNameError\u001b[0m: name 'set_a' is not defined"
     ]
    }
   ],
   "source": [
    "#20\n",
    "\n",
    "set_a = {4, 12, 0, 45, 22, 7, \"sun\", \"sky\"}\n",
    "del set_a\n",
    "print(set_a)"
   ]
  },
  {
   "cell_type": "code",
   "execution_count": 58,
   "id": "8a234e74",
   "metadata": {},
   "outputs": [
    {
     "name": "stdout",
     "output_type": "stream",
     "text": [
      "ascending:  [(0, 0), (2, 1), (4, 3), (1, 4)]\n",
      "descending :  {1: 4, 4: 3, 2: 1, 0: 0}\n"
     ]
    }
   ],
   "source": [
    "#21\n",
    "\n",
    "import operator\n",
    "dict_a = {1: 2, 1: 4, 4: 3, 2: 1, 0: 0}\n",
    "\n",
    "sorted_dict = sorted(dict_a.items(), key=operator.itemgetter(1))\n",
    "print(\"ascending: \",sorted_dict)\n",
    "\n",
    "sorted_dict = dict( sorted(dict_a.items(), key=operator.itemgetter(1),reverse=True))\n",
    "print(\"descending : \",sorted_dict)"
   ]
  },
  {
   "cell_type": "code",
   "execution_count": 59,
   "id": "162ca3d8",
   "metadata": {},
   "outputs": [
    {
     "name": "stdout",
     "output_type": "stream",
     "text": [
      "the key is NOT in the dict\n"
     ]
    }
   ],
   "source": [
    "#22\n",
    "\n",
    "dict_b = {1: 2, 1: 4, 4: 3, 2: 1, 0: 0}\n",
    "key = 6\n",
    "\n",
    "if key in dict_b:\n",
    "    print(\"the key is in the dict\")\n",
    "else:\n",
    "    print(\"the key is NOT in the dict\")"
   ]
  },
  {
   "cell_type": "code",
   "execution_count": 65,
   "id": "ae614965",
   "metadata": {},
   "outputs": [
    {
     "name": "stdout",
     "output_type": "stream",
     "text": [
      "the value is NOT in the dict\n"
     ]
    }
   ],
   "source": [
    "#23\n",
    "\n",
    "dict_b = {1: 2, 1: 4, 4: 3, 2: 1, 0: 0}\n",
    "value = 10\n",
    "\n",
    "if value in dict_b:\n",
    "    print(\"the value is in the dict\")\n",
    "else:\n",
    "    print(\"the value is NOT in the dict\")"
   ]
  },
  {
   "cell_type": "code",
   "execution_count": 66,
   "id": "9ef51978",
   "metadata": {},
   "outputs": [
    {
     "name": "stdout",
     "output_type": "stream",
     "text": [
      "a 2\n",
      "b 4\n",
      "c 3\n",
      "d 1\n"
     ]
    }
   ],
   "source": [
    "#24\n",
    "\n",
    "dict_c = {\"a\": 2, \"b\": 4, \"c\": 3, \"d\": 1}\n",
    "for x,y in dict_c.items():\n",
    "    print(x,y)"
   ]
  },
  {
   "cell_type": "code",
   "execution_count": 68,
   "id": "0bfe9877",
   "metadata": {},
   "outputs": [
    {
     "data": {
      "text/plain": [
       "{'a': 2, 'b': 4, 'c': 3, 'd': 1}"
      ]
     },
     "execution_count": 68,
     "metadata": {},
     "output_type": "execute_result"
    }
   ],
   "source": [
    "#25\n",
    "\n",
    "dict_a = {\"a\": 2, \"b\": 4}\n",
    "dict_b = {\"c\": 3, \"d\": 1}\n",
    "\n",
    "y = dict_a.update(dict_b)\n",
    "dict_a"
   ]
  },
  {
   "cell_type": "code",
   "execution_count": 70,
   "id": "fddc5272",
   "metadata": {},
   "outputs": [
    {
     "name": "stdout",
     "output_type": "stream",
     "text": [
      "10\n"
     ]
    }
   ],
   "source": [
    "#26\n",
    "\n",
    "dict_d = {\"a\": 2, \"b\": 4, \"c\": 3, \"d\": 1}\n",
    "\n",
    "sum = 0\n",
    "for i in dict_d.values():\n",
    "    sum = sum + i\n",
    "\n",
    "print(sum)"
   ]
  },
  {
   "cell_type": "code",
   "execution_count": null,
   "id": "0fa17348",
   "metadata": {},
   "outputs": [],
   "source": []
  }
 ],
 "metadata": {
  "kernelspec": {
   "display_name": "Python 3 (ipykernel)",
   "language": "python",
   "name": "python3"
  },
  "language_info": {
   "codemirror_mode": {
    "name": "ipython",
    "version": 3
   },
   "file_extension": ".py",
   "mimetype": "text/x-python",
   "name": "python",
   "nbconvert_exporter": "python",
   "pygments_lexer": "ipython3",
   "version": "3.9.7"
  }
 },
 "nbformat": 4,
 "nbformat_minor": 5
}
